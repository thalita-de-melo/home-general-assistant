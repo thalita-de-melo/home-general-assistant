{
 "cells": [
  {
   "cell_type": "code",
   "execution_count": 1,
   "metadata": {},
   "outputs": [
    {
     "name": "stdout",
     "output_type": "stream",
     "text": [
      "Collecting requests\n",
      "  Using cached requests-2.31.0-py3-none-any.whl (62 kB)\n",
      "Collecting urllib3<3,>=1.21.1\n",
      "  Downloading urllib3-2.2.1-py3-none-any.whl (121 kB)\n",
      "Collecting idna<4,>=2.5\n",
      "  Downloading idna-3.7-py3-none-any.whl (66 kB)\n",
      "Collecting charset-normalizer<4,>=2\n",
      "  Downloading charset_normalizer-3.3.2-cp310-cp310-win_amd64.whl (100 kB)\n",
      "Collecting certifi>=2017.4.17\n",
      "  Downloading certifi-2024.2.2-py3-none-any.whl (163 kB)\n",
      "Installing collected packages: urllib3, idna, charset-normalizer, certifi, requests\n",
      "Successfully installed certifi-2024.2.2 charset-normalizer-3.3.2 idna-3.7 requests-2.31.0 urllib3-2.2.1\n"
     ]
    },
    {
     "name": "stderr",
     "output_type": "stream",
     "text": [
      "WARNING: You are using pip version 21.2.4; however, version 24.0 is available.\n",
      "You should consider upgrading via the 'D:\\Projetos Programação\\movies\\.venv\\Scripts\\python.exe -m pip install --upgrade pip' command.\n"
     ]
    }
   ],
   "source": [
    "!pip install requests"
   ]
  },
  {
   "cell_type": "code",
   "execution_count": 4,
   "metadata": {},
   "outputs": [
    {
     "name": "stdout",
     "output_type": "stream",
     "text": [
      "Título: The Matrix\n",
      "Data de lançamento: 1999-03-31\n",
      "Resumo: Set in the 22nd century, The Matrix tells the story of a computer hacker who joins a group of underground insurgents fighting the vast and powerful computers who now rule the earth.\n"
     ]
    }
   ],
   "source": [
    "import requests\n",
    "\n",
    "def search_movie_by_name(movie_name, api_key):\n",
    "    url = f\"https://api.themoviedb.org/3/search/movie?api_key={api_key}&query={movie_name}\"\n",
    "    response = requests.get(url)\n",
    "    data = response.json()\n",
    "    return data\n",
    "\n",
    "# Substitua 'YOUR_API_KEY' pela sua chave de API do TMDb\n",
    "api_key = '89e672244e364d235a99109e1f362dda'\n",
    "\n",
    "# Substitua 'The Matrix' pelo nome do filme que você deseja pesquisar\n",
    "movie_name = 'The Matrix'\n",
    "\n",
    "result = search_movie_by_name(movie_name, api_key)\n",
    "\n",
    "# Exemplo de como acessar os resultados\n",
    "if result['total_results'] > 0:\n",
    "    movie = result['results'][0]\n",
    "    print(f\"Título: {movie['title']}\")\n",
    "    print(f\"Data de lançamento: {movie['release_date']}\")\n",
    "    print(f\"Resumo: {movie['overview']}\")\n",
    "else:\n",
    "    print(\"Filme não encontrado.\")\n"
   ]
  },
  {
   "cell_type": "code",
   "execution_count": 6,
   "metadata": {},
   "outputs": [
    {
     "name": "stdout",
     "output_type": "stream",
     "text": [
      "Título: The Matrix\n",
      "Data de lançamento: 1999-03-31\n",
      "Resumo: Set in the 22nd century, The Matrix tells the story of a computer hacker who joins a group of underground insurgents fighting the vast and powerful computers who now rule the earth.\n",
      "URL do poster: https://image.tmdb.org/t/p/w500//f89U3ADr1oiB1s9GkdPOEpXUk5H.jpg\n"
     ]
    }
   ],
   "source": [
    "import requests\n",
    "\n",
    "def search_movie_by_name(movie_name, api_key):\n",
    "    url = f\"https://api.themoviedb.org/3/search/movie?api_key={api_key}&query={movie_name}\"\n",
    "    response = requests.get(url)\n",
    "    data = response.json()\n",
    "    return data\n",
    "\n",
    "def get_movie_details(movie_id, api_key):\n",
    "    url = f\"https://api.themoviedb.org/3/movie/{movie_id}?api_key={api_key}\"\n",
    "    response = requests.get(url)\n",
    "    data = response.json()\n",
    "    return data\n",
    "\n",
    "# Substitua 'YOUR_API_KEY' pela sua chave de API do TMDb\n",
    "api_key = '89e672244e364d235a99109e1f362dda'\n",
    "\n",
    "# Substitua 'The Matrix' pelo nome do filme que você deseja pesquisar\n",
    "movie_name = 'The Matrix'\n",
    "\n",
    "result = search_movie_by_name(movie_name, api_key)\n",
    "\n",
    "# Exemplo de como acessar os resultados\n",
    "if result['total_results'] > 0:\n",
    "    movie_id = result['results'][0]['id']\n",
    "    movie_details = get_movie_details(movie_id, api_key)\n",
    "    print(f\"Título: {movie_details['title']}\")\n",
    "    print(f\"Data de lançamento: {movie_details['release_date']}\")\n",
    "    print(f\"Resumo: {movie_details['overview']}\")\n",
    "    if 'poster_path' in movie_details:\n",
    "        poster_url = f\"https://image.tmdb.org/t/p/w500/{movie_details['poster_path']}\"\n",
    "        print(f\"URL do poster: {poster_url}\")\n",
    "else:\n",
    "    print(\"Filme não encontrado.\")\n"
   ]
  },
  {
   "cell_type": "code",
   "execution_count": 1,
   "metadata": {},
   "outputs": [
    {
     "name": "stdout",
     "output_type": "stream",
     "text": [
      "Título: The Matrix\n",
      "Data de lançamento: 1999-03-31\n",
      "Resumo: Set in the 22nd century, The Matrix tells the story of a computer hacker who joins a group of underground insurgents fighting the vast and powerful computers who now rule the earth.\n",
      "URL do poster: https://image.tmdb.org/t/p/w500//f89U3ADr1oiB1s9GkdPOEpXUk5H.jpg\n",
      "Poster do filme 'The Matrix' baixado com sucesso!\n"
     ]
    }
   ],
   "source": [
    "import os\n",
    "import requests\n",
    "\n",
    "def search_movie_by_name(movie_name, api_key):\n",
    "    url = f\"https://api.themoviedb.org/3/search/movie?api_key={api_key}&query={movie_name}\"\n",
    "    response = requests.get(url)\n",
    "    data = response.json()\n",
    "    return data\n",
    "\n",
    "def get_movie_details(movie_id, api_key):\n",
    "    url = f\"https://api.themoviedb.org/3/movie/{movie_id}?api_key={api_key}\"\n",
    "    response = requests.get(url)\n",
    "    data = response.json()\n",
    "    return data\n",
    "\n",
    "# Função para baixar a imagem do poster\n",
    "def download_movie_poster(poster_url, movie_title):\n",
    "    response = requests.get(poster_url)\n",
    "    if response.status_code == 200:\n",
    "        with open(f\"img/{movie_title}.jpg\", 'wb') as f:\n",
    "            f.write(response.content)\n",
    "            print(f\"Poster do filme '{movie_title}' baixado com sucesso!\")\n",
    "    else:\n",
    "        print(\"Falha ao baixar o poster do filme.\")\n",
    "\n",
    "# Substitua 'YOUR_API_KEY' pela sua chave de API do TMDb\n",
    "api_key = '89e672244e364d235a99109e1f362dda'\n",
    "\n",
    "# Substitua 'The Matrix' pelo nome do filme que você deseja pesquisar\n",
    "movie_name = 'The Matrix'\n",
    "\n",
    "result = search_movie_by_name(movie_name, api_key)\n",
    "\n",
    "# Exemplo de como acessar os resultados\n",
    "if result['total_results'] > 0:\n",
    "    movie_id = result['results'][0]['id']\n",
    "    movie_details = get_movie_details(movie_id, api_key)\n",
    "    print(f\"Título: {movie_details['title']}\")\n",
    "    print(f\"Data de lançamento: {movie_details['release_date']}\")\n",
    "    print(f\"Resumo: {movie_details['overview']}\")\n",
    "    if 'poster_path' in movie_details:\n",
    "        poster_url = f\"https://image.tmdb.org/t/p/w500/{movie_details['poster_path']}\"\n",
    "        print(f\"URL do poster: {poster_url}\")\n",
    "        download_movie_poster(poster_url, movie_details['title'])\n",
    "else:\n",
    "    print(\"Filme não encontrado.\")\n"
   ]
  },
  {
   "cell_type": "code",
   "execution_count": null,
   "metadata": {},
   "outputs": [],
   "source": []
  }
 ],
 "metadata": {
  "kernelspec": {
   "display_name": ".venv",
   "language": "python",
   "name": "python3"
  },
  "language_info": {
   "codemirror_mode": {
    "name": "ipython",
    "version": 3
   },
   "file_extension": ".py",
   "mimetype": "text/x-python",
   "name": "python",
   "nbconvert_exporter": "python",
   "pygments_lexer": "ipython3",
   "version": "3.10.2"
  }
 },
 "nbformat": 4,
 "nbformat_minor": 2
}
